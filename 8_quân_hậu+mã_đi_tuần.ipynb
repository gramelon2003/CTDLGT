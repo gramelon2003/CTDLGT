{
  "nbformat": 4,
  "nbformat_minor": 0,
  "metadata": {
    "colab": {
      "name": "8_quân_hậu+mã_đi_tuần.ipynb",
      "provenance": [],
      "authorship_tag": "ABX9TyO/pF+O01qY9QnHZGj9j18M",
      "include_colab_link": true
    },
    "kernelspec": {
      "name": "python3",
      "display_name": "Python 3"
    },
    "language_info": {
      "name": "python"
    }
  },
  "cells": [
    {
      "cell_type": "markdown",
      "metadata": {
        "id": "view-in-github",
        "colab_type": "text"
      },
      "source": [
        "<a href=\"https://colab.research.google.com/github/gramelon2003/CTDLGT/blob/master/8_qu%C3%A2n_h%E1%BA%ADu%2Bm%C3%A3_%C4%91i_tu%E1%BA%A7n.ipynb\" target=\"_parent\"><img src=\"https://colab.research.google.com/assets/colab-badge.svg\" alt=\"Open In Colab\"/></a>"
      ]
    },
    {
      "cell_type": "code",
      "execution_count": 1,
      "metadata": {
        "colab": {
          "base_uri": "https://localhost:8080/"
        },
        "id": "GflIViIclPGs",
        "outputId": "65ae3d1a-93f1-4a2e-8459-9ab143e98f8e"
      },
      "outputs": [
        {
          "output_type": "stream",
          "name": "stdout",
          "text": [
            "0 59 38 33 30 17 8 63 \n",
            "37 34 31 60 9 62 29 16 \n",
            "58 1 36 39 32 27 18 7 \n",
            "35 48 41 26 61 10 15 28 \n",
            "42 57 2 49 40 23 6 19 \n",
            "47 50 45 54 25 20 11 14 \n",
            "56 43 52 3 22 13 24 5 \n",
            "51 46 55 44 53 4 21 12 \n"
          ]
        }
      ],
      "source": [
        "n = 8\n",
        "def isSafe(x, y, board):\n",
        "\n",
        "    if(x >= 0 and y >= 0 and x < n and y < n and board[x][y] == -1):\n",
        "        return True\n",
        "    return False\n",
        "def printSolution(n, board):\n",
        "    for i in range(n):\n",
        "        for j in range(n):\n",
        "            print(board[i][j], end=' ')\n",
        "        print()\n",
        "        \n",
        "def solveKT(n):\n",
        "\n",
        "    board = [[-1 for i in range(n)]for i in range(n)]\n",
        "    move_x = [2, 1, -1, -2, -2, -1, 1, 2]\n",
        "    move_y = [1, 2, 2, 1, -1, -2, -2, -1]\n",
        "    board[0][0] = 0\n",
        "    pos = 1\n",
        "    if(not solveKTUtil(n, board, 0, 0, move_x, move_y, pos)):\n",
        "        print(\"Solution does not exist\")\n",
        "    else:\n",
        "        printSolution(n, board)\n",
        "\n",
        "\n",
        "def solveKTUtil(n, board, curr_x, curr_y, move_x, move_y, pos):\n",
        "\n",
        "    if(pos == n**2):\n",
        "        return True\n",
        "    for i in range(8):\n",
        "        new_x = curr_x + move_x[i]\n",
        "        new_y = curr_y + move_y[i]\n",
        "        if(isSafe(new_x, new_y, board)):\n",
        "            board[new_x][new_y] = pos\n",
        "            if(solveKTUtil(n, board, new_x, new_y, move_x, move_y, pos+1)):\n",
        "                return True\n",
        "            board[new_x][new_y] = -1\n",
        "    return False\n",
        "if __name__ == \"__main__\":\n",
        "\n",
        "    solveKT(n)"
      ]
    },
    {
      "cell_type": "code",
      "source": [
        "import numpy as np\n",
        "global N\n",
        "N = 8\n",
        "\n",
        "def printSolution(board):\n",
        "\tfor i in range(N):\n",
        "\t\tfor j in range(N):\n",
        "\t\t\tprint (board[i][j],end=' ')\n",
        "\t\tprint()\n",
        "\n",
        "\n",
        "# A utility function to check if a queen can\n",
        "# be placed on board[row][col]. Note that this\n",
        "# function is called when \"col\" queens are\n",
        "# already placed in columns from 0 to col -1.\n",
        "# So we need to check only left side for\n",
        "# attacking queens\n",
        "def isSafe(board, row, col):\n",
        "\n",
        "\t# Check this row on left side\n",
        "\tfor i in range(col):\n",
        "\t\tif board[row][i] == 1:\n",
        "\t\t\treturn False\n",
        "\n",
        "\t# Check upper diagonal on left side\n",
        "\tfor i, j in zip(range(row, -1, -1), range(col, -1, -1)):\n",
        "\t\tif board[i][j] == 1:\n",
        "\t\t\treturn False\n",
        "\n",
        "\t# Check lower diagonal on left side\n",
        "\tfor i, j in zip(range(row, N, 1), range(col, -1, -1)):\n",
        "\t\tif board[i][j] == 1:\n",
        "\t\t\treturn False\n",
        "\n",
        "\treturn True\n",
        "\n",
        "def solveNQUtil(board, col):\n",
        "\t# base case: If all queens are placed\n",
        "\t# then return true\n",
        "\tif col >= N:\n",
        "\t\treturn True\n",
        "\n",
        "\t# Consider this column and try placing\n",
        "\t# this queen in all rows one by one\n",
        "\tfor i in range(N):\n",
        "\n",
        "\t\tif isSafe(board, i, col):\n",
        "\t\t\t# Place this queen in board[i][col]\n",
        "\t\t\tboard[i][col] = 1\n",
        "\n",
        "\t\t\t# recur to place rest of the queens\n",
        "\t\t\tif solveNQUtil(board, col + 1) == True:\n",
        "\t\t\t\treturn True\n",
        "\n",
        "\t\t\t# If placing queen in board[i][col\n",
        "\t\t\t# doesn't lead to a solution, then\n",
        "\t\t\t# queen from board[i][col]\n",
        "\t\t\tboard[i][col] = 0\n",
        "\n",
        "\t# if the queen can not be placed in any row in\n",
        "\t# this column col then return false\n",
        "\treturn False\n",
        "\n",
        "# This function solves the N Queen problem using\n",
        "# Backtracking. It mainly uses solveNQUtil() to\n",
        "# solve the problem. It returns false if queens\n",
        "# cannot be placed, otherwise return true and\n",
        "# placement of queens in the form of 1s.\n",
        "# note that there may be more than one\n",
        "# solutions, this function prints one of the\n",
        "# feasible solutions.\n",
        "def solveNQ():\n",
        "\tboard = np.zeros((8, 8))\n",
        "\n",
        "\tif solveNQUtil(board, 0) == False:\n",
        "\t\tprint (\"Solution does not exist\")\n",
        "\t\treturn False\n",
        "\n",
        "\tprintSolution(board)\n",
        "\treturn True\n",
        "\n",
        "# driver program to test above function\n",
        "solveNQ()\n",
        "\n",
        "# This code is contributed by Divyanshu Mehta\n"
      ],
      "metadata": {
        "colab": {
          "base_uri": "https://localhost:8080/"
        },
        "id": "zHJYdq1k7DnE",
        "outputId": "0a79a2e5-8735-429d-8ab1-b136af8a9242"
      },
      "execution_count": 10,
      "outputs": [
        {
          "output_type": "stream",
          "name": "stdout",
          "text": [
            "1.0 0.0 0.0 0.0 0.0 0.0 0.0 0.0 \n",
            "0.0 0.0 0.0 0.0 0.0 0.0 1.0 0.0 \n",
            "0.0 0.0 0.0 0.0 1.0 0.0 0.0 0.0 \n",
            "0.0 0.0 0.0 0.0 0.0 0.0 0.0 1.0 \n",
            "0.0 1.0 0.0 0.0 0.0 0.0 0.0 0.0 \n",
            "0.0 0.0 0.0 1.0 0.0 0.0 0.0 0.0 \n",
            "0.0 0.0 0.0 0.0 0.0 1.0 0.0 0.0 \n",
            "0.0 0.0 1.0 0.0 0.0 0.0 0.0 0.0 \n"
          ]
        },
        {
          "output_type": "execute_result",
          "data": {
            "text/plain": [
              "True"
            ]
          },
          "metadata": {},
          "execution_count": 10
        }
      ]
    },
    {
      "cell_type": "code",
      "source": [
        "# Python program to solve N Queen\n",
        "# Problem using backtracking\n",
        "\n",
        "global N\n",
        "N = 4\n",
        "\n",
        "def printSolution(board):\n",
        "\tfor i in range(N):\n",
        "\t\tfor j in range(N):\n",
        "\t\t\tprint (board[i][j],end=' ')\n",
        "\t\tprint()\n",
        "\n",
        "\n",
        "# A utility function to check if a queen can\n",
        "# be placed on board[row][col]. Note that this\n",
        "# function is called when \"col\" queens are\n",
        "# already placed in columns from 0 to col -1.\n",
        "# So we need to check only left side for\n",
        "# attacking queens\n",
        "def isSafe(board, row, col):\n",
        "\n",
        "\t# Check this row on left side\n",
        "\tfor i in range(col):\n",
        "\t\tif board[row][i] == 1:\n",
        "\t\t\treturn False\n",
        "\n",
        "\t# Check upper diagonal on left side\n",
        "\tfor i, j in zip(range(row, -1, -1), range(col, -1, -1)):\n",
        "\t\tif board[i][j] == 1:\n",
        "\t\t\treturn False\n",
        "\n",
        "\t# Check lower diagonal on left side\n",
        "\tfor i, j in zip(range(row, N, 1), range(col, -1, -1)):\n",
        "\t\tif board[i][j] == 1:\n",
        "\t\t\treturn False\n",
        "\n",
        "\treturn True\n",
        "\n",
        "def solveNQUtil(board, col):\n",
        "\t# base case: If all queens are placed\n",
        "\t# then return true\n",
        "\tif col >= N:\n",
        "\t\treturn True\n",
        "\n",
        "\t# Consider this column and try placing\n",
        "\t# this queen in all rows one by onegramelon1305\n",
        "\tfor i in range(N):\n",
        "\n",
        "\t\tif isSafe(board, i, col):\n",
        "\t\t\t# Place this queen in board[i][col]\n",
        "\t\t\tboard[i][col] = 1\n",
        "\n",
        "\t\t\t# recur to place rest of the queens\n",
        "\t\t\tif solveNQUtil(board, col + 1) == True:\n",
        "\t\t\t\treturn True\n",
        "\n",
        "\t\t\t# If placing queen in board[i][col\n",
        "\t\t\t# doesn't lead to a solution, then\n",
        "\t\t\t# queen from board[i][col]\n",
        "\t\t\tboard[i][col] = 0\n",
        "\n",
        "\t# if the queen can not be placed in any row in\n",
        "\t# this column col then return false\n",
        "\treturn False\n",
        "\n",
        "# This function solves the N Queen problem using\n",
        "# Backtracking. It mainly uses solveNQUtil() to\n",
        "# solve the problem. It returns false if queens\n",
        "# cannot be placed, otherwise return true and\n",
        "# placement of queens in the form of 1s.\n",
        "# note that there may be more than one\n",
        "# solutions, this function prints one of the\n",
        "# feasible solutions.\n",
        "def solveNQ():\n",
        "\tboard = [ [0, 0, 0, 0],\n",
        "\t\t\t[0, 0, 0, 0],\n",
        "\t\t\t[0, 0, 0, 0],\n",
        "\t\t\t[0, 0, 0, 0]\n",
        "\t\t\t]\n",
        "\n",
        "\tif solveNQUtil(board, 0) == False:\n",
        "\t\tprint (\"Solution does not exist\")\n",
        "\t\treturn False\n",
        "\n",
        "\tprintSolution(board)\n",
        "\treturn True\n",
        "\n",
        "# driver program to test above function\n",
        "solveNQ()\n",
        "\n",
        "# This code is contributed by Divyanshu Mehta\n"
      ],
      "metadata": {
        "colab": {
          "base_uri": "https://localhost:8080/"
        },
        "id": "CPN6vASm8OYm",
        "outputId": "cdeefd0a-5246-48f7-dcd9-19f362a5bf69"
      },
      "execution_count": 11,
      "outputs": [
        {
          "output_type": "stream",
          "name": "stdout",
          "text": [
            "0 0 1 0 \n",
            "1 0 0 0 \n",
            "0 0 0 1 \n",
            "0 1 0 0 \n"
          ]
        },
        {
          "output_type": "execute_result",
          "data": {
            "text/plain": [
              "True"
            ]
          },
          "metadata": {},
          "execution_count": 11
        }
      ]
    }
  ]
}