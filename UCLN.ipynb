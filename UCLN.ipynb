{
  "nbformat": 4,
  "nbformat_minor": 0,
  "metadata": {
    "colab": {
      "name": "UCLN.ipynb",
      "provenance": [],
      "authorship_tag": "ABX9TyNGeCuo/62K7S2ITPuIGn78",
      "include_colab_link": true
    },
    "kernelspec": {
      "name": "python3",
      "display_name": "Python 3"
    },
    "language_info": {
      "name": "python"
    }
  },
  "cells": [
    {
      "cell_type": "markdown",
      "metadata": {
        "id": "view-in-github",
        "colab_type": "text"
      },
      "source": [
        "<a href=\"https://colab.research.google.com/github/gramelon2003/CTDLGT/blob/master/UCLN.ipynb\" target=\"_parent\"><img src=\"https://colab.research.google.com/assets/colab-badge.svg\" alt=\"Open In Colab\"/></a>"
      ]
    },
    {
      "cell_type": "code",
      "execution_count": 2,
      "metadata": {
        "colab": {
          "base_uri": "https://localhost:8080/"
        },
        "id": "Rfnzxg-n-S0z",
        "outputId": "02b7eda0-dd94-4252-8424-dfe7d9b62a24"
      },
      "outputs": [
        {
          "output_type": "stream",
          "name": "stdout",
          "text": [
            "nhập a: 38\n",
            "nhập b: 14\n",
            "UCLN của a và b là:  2\n"
          ]
        }
      ],
      "source": [
        "def ucln(a, b):\n",
        "    if a == b:\n",
        "       print(\"UCLN của a và b là: \",a)\n",
        "    elif a > b:\n",
        "       ucln(a-b, a)\n",
        "    elif a < b:\n",
        "       ucln(a, b-a)\n",
        "a = int(input(\"nhập a: \"))\n",
        "b = int(input(\"nhập b: \"))\n",
        "ucln(a, b)"
      ]
    }
  ]
}