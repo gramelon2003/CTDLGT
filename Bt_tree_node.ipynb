{
  "nbformat": 4,
  "nbformat_minor": 0,
  "metadata": {
    "colab": {
      "name": "Bt_tree_node.ipynb",
      "provenance": [],
      "authorship_tag": "ABX9TyN4BAO5gyhgXMEpbmepHYM9",
      "include_colab_link": true
    },
    "kernelspec": {
      "name": "python3",
      "display_name": "Python 3"
    },
    "language_info": {
      "name": "python"
    }
  },
  "cells": [
    {
      "cell_type": "markdown",
      "metadata": {
        "id": "view-in-github",
        "colab_type": "text"
      },
      "source": [
        "<a href=\"https://colab.research.google.com/github/gramelon2003/CTDLGT/blob/master/Bt_tree_node.ipynb\" target=\"_parent\"><img src=\"https://colab.research.google.com/assets/colab-badge.svg\" alt=\"Open In Colab\"/></a>"
      ]
    },
    {
      "cell_type": "markdown",
      "source": [
        "1. Nêu khái niệm cây và một số tính chất của cây"
      ],
      "metadata": {
        "id": "sGO7nRC7EXgz"
      }
    },
    {
      "cell_type": "markdown",
      "source": [
        "- là một cấu trúc dữ liệu cây mà mỗi nút có nhiều nhất hai nút con\n",
        "- Với mỗi nút x, các nút ở cây con bên trái của x đều có giá trị key nhỏ hơn x \n",
        "- còn các nút ở cây con bên phải của x đều có key lớn hơn hoặc bằng x"
      ],
      "metadata": {
        "id": "hihwovbEEOfB"
      }
    },
    {
      "cell_type": "markdown",
      "source": [
        "2. Với cây cho ở hình Tree1.png, nếu cài đặt cây bằng mảng các nút, thì giá trị của mảng sẽ như thế nào?"
      ],
      "metadata": {
        "id": "-vkvHl3XE9D-"
      }
    },
    {
      "cell_type": "markdown",
      "source": [
        "[3, 4, 1, 9, 5, 2, 7, 8, 6]"
      ],
      "metadata": {
        "id": "ol6A3p3lFSBi"
      }
    },
    {
      "cell_type": "markdown",
      "source": [
        "3. Với cây ở trên, cài đặt cây theo phương pháp danh sách các nút con"
      ],
      "metadata": {
        "id": "dlWUK2xZF0I3"
      }
    },
    {
      "cell_type": "code",
      "execution_count": 3,
      "metadata": {
        "colab": {
          "base_uri": "https://localhost:8080/"
        },
        "id": "Q9An4VxnELDE",
        "outputId": "aece11a2-7c8b-4da0-8847-4ddbbda9831d"
      },
      "outputs": [
        {
          "output_type": "stream",
          "name": "stdout",
          "text": [
            "8 9 6 4 5 3 2 1 7 "
          ]
        }
      ],
      "source": [
        "class newNode:\n",
        "\tdef __init__(self, data):\n",
        "\t\tself.data = data\n",
        "\t\tself.left = self.right = None\n",
        "\n",
        "def insertLevelOrder(arr, root, i, n):\n",
        "\t\n",
        "\tif i < n:\n",
        "\t\ttemp = newNode(arr[i])\n",
        "\t\troot = temp\n",
        "\n",
        "\t\troot.left = insertLevelOrder(arr, root.left,\n",
        "\t\t\t\t\t\t\t\t\t2 * i + 1, n)\n",
        "\n",
        "\t\troot.right = insertLevelOrder(arr, root.right,\n",
        "\t\t\t\t\t\t\t\t\t2 * i + 2, n)\n",
        "\treturn root\n",
        "\n",
        "def inOrder(root):\n",
        "\tif root != None:\n",
        "\t\tinOrder(root.left)\n",
        "\t\tprint(root.data,end=\" \")\n",
        "\t\tinOrder(root.right)\n",
        "\n",
        "if __name__ == '__main__':\n",
        "\tarr = [3, 4, 1, 9, 5, 2, 7, 8, 6]\n",
        "\tn = len(arr)\n",
        "\troot = None\n",
        "\troot = insertLevelOrder(arr, root, 0, n)\n",
        "\tinOrder(root)\n"
      ]
    },
    {
      "cell_type": "markdown",
      "source": [
        "4. Cho biết trình tự thăm các nút của cây khi tiến hành duyệt theo thứ tự trước, thứ tự giữa, và thứ tự sau"
      ],
      "metadata": {
        "id": "Pn53c-bAGbi8"
      }
    },
    {
      "cell_type": "markdown",
      "source": [
        "- Trước: 3 4 5 8 6 1 9 2 7\n",
        "- Giữa: 8 5 4 6 3 1 9 2 7\n",
        "- Sau: 8 6 5 4 1 2 7 9 3"
      ],
      "metadata": {
        "id": "9YMxKhX0Gd5u"
      }
    }
  ]
}