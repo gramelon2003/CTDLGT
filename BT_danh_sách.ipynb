{
  "nbformat": 4,
  "nbformat_minor": 0,
  "metadata": {
    "colab": {
      "name": "BT_danh_sách.ipynb",
      "provenance": [],
      "collapsed_sections": [],
      "authorship_tag": "ABX9TyOW7nIn8gtXqSu724V+pEp4",
      "include_colab_link": true
    },
    "kernelspec": {
      "name": "python3",
      "display_name": "Python 3"
    },
    "language_info": {
      "name": "python"
    }
  },
  "cells": [
    {
      "cell_type": "markdown",
      "metadata": {
        "id": "view-in-github",
        "colab_type": "text"
      },
      "source": [
        "<a href=\"https://colab.research.google.com/github/gramelon2003/CTDLGT/blob/master/BT_danh_s%C3%A1ch.ipynb\" target=\"_parent\"><img src=\"https://colab.research.google.com/assets/colab-badge.svg\" alt=\"Open In Colab\"/></a>"
      ]
    },
    {
      "cell_type": "markdown",
      "source": [
        "Bài 1"
      ],
      "metadata": {
        "id": "ngJvofXx0nKT"
      }
    },
    {
      "cell_type": "code",
      "source": [
        "n = int(input(\"nhập giới hạn: \"))\n",
        "a = [int(input(\"nhập số: \")) for i in range(0, n)]\n",
        "b = sorted(a)\n",
        "for i in range(0, len(a)):\n",
        "    print(a[i], end = \" \")\n",
        "for i in range(0, len(b)):\n",
        "    print(b[i], end = \" \")\n",
        "    "
      ],
      "metadata": {
        "colab": {
          "base_uri": "https://localhost:8080/"
        },
        "id": "uAvW67ur0o1L",
        "outputId": "ca328c94-7a0f-46f2-de63-66e698f45f7e"
      },
      "execution_count": 17,
      "outputs": [
        {
          "output_type": "stream",
          "name": "stdout",
          "text": [
            "nhập giới hạn: 9\n",
            "nhập số: 12\n",
            "nhập số: 8\n",
            "nhập số: 17\n",
            "nhập số: 25\n",
            "nhập số: 3\n",
            "nhập số: 19\n",
            "nhập số: 12\n",
            "nhập số: 22\n",
            "nhập số: 8\n",
            "3 8 8 12 12 17 19 22 25 "
          ]
        }
      ]
    },
    {
      "cell_type": "markdown",
      "source": [
        "Bài 2"
      ],
      "metadata": {
        "id": "PlswrQAD6Tmb"
      }
    },
    {
      "cell_type": "code",
      "source": [
        "n = int(input(\"nhập giới hạn: \"))\n",
        "a = [int(input(\"nhập số: \")) for i in range(0, n)]\n",
        "print(\"Đây là danh sách đã nhập: \", end = \" \")\n",
        "for i in range(0, len(a)):\n",
        "    print(a[i], end = \" \")\n",
        "b = list(dict.fromkeys(a))\n",
        "for i in range(0, len(b)):\n",
        "    s = 0\n",
        "    for j in range(0, len(a)):\n",
        "        if a[j] == b[i]:\n",
        "            s = s+1\n",
        "        else:\n",
        "            continue\n",
        "    c = (b[i], s)\n",
        "    print(c)\n",
        "        \n",
        "print(b)"
      ],
      "metadata": {
        "id": "FppHUwBz0cPW"
      },
      "execution_count": null,
      "outputs": []
    },
    {
      "cell_type": "markdown",
      "source": [
        "Bài 3"
      ],
      "metadata": {
        "id": "M32iD_e-0dDo"
      }
    },
    {
      "cell_type": "code",
      "execution_count": 3,
      "metadata": {
        "colab": {
          "base_uri": "https://localhost:8080/"
        },
        "id": "46zpR3LbyeSx",
        "outputId": "9c07ba80-21e4-4e18-8c0a-8e41cfc0fa58"
      },
      "outputs": [
        {
          "output_type": "stream",
          "name": "stdout",
          "text": [
            "Requirement already satisfied: rpy2 in /usr/local/lib/python3.7/dist-packages (3.4.5)\n",
            "Requirement already satisfied: jinja2 in /usr/local/lib/python3.7/dist-packages (from rpy2) (2.11.3)\n",
            "Requirement already satisfied: tzlocal in /usr/local/lib/python3.7/dist-packages (from rpy2) (1.5.1)\n",
            "Requirement already satisfied: cffi>=1.10.0 in /usr/local/lib/python3.7/dist-packages (from rpy2) (1.15.0)\n",
            "Requirement already satisfied: pytz in /usr/local/lib/python3.7/dist-packages (from rpy2) (2018.9)\n",
            "Requirement already satisfied: pycparser in /usr/local/lib/python3.7/dist-packages (from cffi>=1.10.0->rpy2) (2.21)\n",
            "Requirement already satisfied: MarkupSafe>=0.23 in /usr/local/lib/python3.7/dist-packages (from jinja2->rpy2) (2.0.1)\n"
          ]
        }
      ],
      "source": [
        "pip install rpy2"
      ]
    },
    {
      "cell_type": "markdown",
      "source": [
        "Bài 4"
      ],
      "metadata": {
        "id": "tnDjydCQ0efI"
      }
    },
    {
      "cell_type": "code",
      "source": [
        "from multiprocessing import Queue"
      ],
      "metadata": {
        "id": "AzjCkTp7zVBW"
      },
      "execution_count": 5,
      "outputs": []
    }
  ]
}